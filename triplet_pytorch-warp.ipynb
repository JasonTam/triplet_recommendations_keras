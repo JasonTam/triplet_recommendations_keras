{
 "cells": [
  {
   "cell_type": "markdown",
   "metadata": {},
   "source": [
    "# Recommendations in pytorch using triplet loss\n",
    "Along the lines of BPR [1]. \n",
    "\n",
    "[1] Rendle, Steffen, et al. \"BPR: Bayesian personalized ranking from implicit feedback.\" Proceedings of the Twenty-Fifth Conference on Uncertainty in Artificial Intelligence. AUAI Press, 2009.\n",
    "\n",
    "This is implemented (more efficiently) in LightFM (https://github.com/lyst/lightfm). See the MovieLens example (https://github.com/lyst/lightfm/blob/master/examples/movielens/example.ipynb) for results comparable to this notebook.\n",
    "\n",
    "## Set up the architecture\n",
    "A simple dense layer for both users and items: this is exactly equivalent to latent factor matrix when multiplied by binary user and item indices. There are three inputs: users, positive items, and negative items. In the triplet objective we try to make the positive item rank higher than the negative item for that user.\n",
    "\n",
    "Because we want just one single embedding for the items, we use shared weights for the positive and negative item inputs (a siamese architecture).\n",
    "\n",
    "This is all very simple but could be made arbitrarily complex, with more layers, conv layers and so on. I expect we'll be seeing a lot of papers doing just that.\n"
   ]
  },
  {
   "cell_type": "code",
   "execution_count": 1,
   "metadata": {
    "collapsed": true
   },
   "outputs": [],
   "source": [
    "from __future__ import print_function\n",
    "\n",
    "import numpy as np\n",
    "import itertools\n",
    "import data\n",
    "import metrics\n",
    "from time import time\n",
    "\n",
    "import torch\n",
    "import torch.nn as nn\n",
    "import torch.nn.init as init\n",
    "import torch.nn.functional as F\n",
    "import torch.optim as optim\n",
    "from torch.autograd import Variable\n",
    "\n",
    "from functools import partial\n",
    "from itertools import chain"
   ]
  },
  {
   "cell_type": "code",
   "execution_count": 2,
   "metadata": {
    "collapsed": false
   },
   "outputs": [
    {
     "name": "stdout",
     "output_type": "stream",
     "text": [
      "944 1683\n"
     ]
    }
   ],
   "source": [
    "n_latent = 20\n",
    "batch_size = 64\n",
    "\n",
    "# Read data\n",
    "train, test = data.get_movielens_data()\n",
    "train = train.tocsr()\n",
    "n_users, n_items = train.shape\n",
    "print(n_users, n_items)"
   ]
  },
  {
   "cell_type": "code",
   "execution_count": 3,
   "metadata": {
    "collapsed": false
   },
   "outputs": [],
   "source": [
    "class FactNet(nn.Module):\n",
    "    def __init__(self,\n",
    "                 n_users, n_items,\n",
    "                 n_latent,\n",
    "                ):\n",
    "        super(FactNet, self).__init__()\n",
    "        self.n_users = n_users\n",
    "        self.n_items = n_items\n",
    "        self.n_latent = n_latent\n",
    "        self.user_embedding_layer = nn.Embedding(self.n_users, self.n_latent)\n",
    "        self.item_embedding_layer = nn.Embedding(self.n_items, self.n_latent)  # both pos and neg items share these params\n",
    "        init.uniform(self.user_embedding_layer.weight, -0.5, 0.5)\n",
    "        init.uniform(self.item_embedding_layer.weight, -0.5, 0.5)  # default was normal\n",
    "        \n",
    "    def predict_score(self, uid, iid):\n",
    "        user_embedding = self.user_embedding_layer(uid)\n",
    "        item_embedding = self.item_embedding_layer(iid)\n",
    "        score = (user_embedding * item_embedding).sum(dim=1)\n",
    "        return score\n",
    "    \n",
    "        \n",
    "    def forward(self, uid, pid, nid):\n",
    "        # lulzy forward for loss computation\n",
    "        user_embedding = self.user_embedding_layer(uid)\n",
    "        pos_item_embedding = self.item_embedding_layer(pid)\n",
    "        neg_item_embedding = self.item_embedding_layer(nid)\n",
    "        \n",
    "        # torch.dot doesnt take in axis :sadface:\n",
    "        pos_pred = (user_embedding * pos_item_embedding).sum(dim=1)\n",
    "        neg_pred = (user_embedding * neg_item_embedding).sum(dim=1)\n",
    "        return pos_pred, neg_pred\n",
    "\n",
    "    \n",
    "class TripletLoss(nn.Module):\n",
    "    def __init__(self, loss='hinge', warp_weighting=True, n_items=None):\n",
    "        super(TripletLoss, self).__init__()\n",
    "        self.n_items = n_items\n",
    "        loss_d = {\n",
    "            'sigmoid': self.forward_sigmoid,\n",
    "            'hinge': self.forward_hinge,\n",
    "        }\n",
    "        if warp_weighting:\n",
    "            self.forward_premean = lambda pos_pred, neg_pred, nsamp: \\\n",
    "                self.warp_weight(nsamp) * loss_d[loss](pos_pred, neg_pred)\n",
    "        else:\n",
    "            self.forward_premean = lambda pos_pred, neg_pred, nsamp: \\\n",
    "                loss_d[loss](pos_pred, neg_pred)\n",
    "        \n",
    "    def forward(self, *args):\n",
    "        return self.forward_premean(*args).mean()\n",
    "        \n",
    "    def warp_weight(self, nsamp):\n",
    "        return torch.log(torch.floor((self.n_items-1)/nsamp)) / np.log(self.n_items)\n",
    "    \n",
    "    def forward_sigmoid(self, pos_pred, neg_pred):\n",
    "        loss = 1.0 - torch.sigmoid(pos_pred - neg_pred)\n",
    "        return loss\n",
    "    \n",
    "    def forward_hinge(self, pos_pred, neg_pred):\n",
    "        loss = torch.clamp(1.0 + neg_pred - pos_pred, min=0.0)\n",
    "        return loss\n",
    "\n",
    "\n",
    "net = FactNet(n_users, n_items, n_latent)\n",
    "criterion = TripletLoss(loss='hinge', warp_weighting=True, n_items=n_items)\n",
    "# optimizer = optim.Adam(net.parameters())\n",
    "# optimizer = optim.Adadelta(net.parameters())\n",
    "optimizer = optim.Adagrad(net.parameters())"
   ]
  },
  {
   "cell_type": "code",
   "execution_count": 4,
   "metadata": {
    "collapsed": true
   },
   "outputs": [],
   "source": [
    "def batcher(iterable, batch_size):\n",
    "    it = iter(iterable)\n",
    "    while True:\n",
    "        chunk = tuple(itertools.islice(it, batch_size))\n",
    "        if not chunk:\n",
    "            return\n",
    "        yield np.array(chunk, dtype=np.int64)"
   ]
  },
  {
   "cell_type": "code",
   "execution_count": 5,
   "metadata": {
    "collapsed": true
   },
   "outputs": [],
   "source": [
    "from bisect import bisect_left\n",
    "\n",
    "def bsearch_membership(csr_mat, row_ind, col_ind):\n",
    "    \"\"\" ehh, this is slower than `in`\n",
    "    csr_mat : interaction matrix\n",
    "    row_ind : user_ind\n",
    "    col_ind : item_ind\n",
    "    \"\"\"\n",
    "    start_idx = csr_mat.indptr[row_ind]\n",
    "    stop_idx = csr_mat.indptr[row_ind+1]\n",
    "    pos_vals = csr_mat.indices[start_idx:stop_idx]\n",
    "    insertion_index = bisect_left(pos_vals, col_ind)\n",
    "    return (insertion_index < (stop_idx-start_idx)) and (col_ind == pos_vals[insertion_index])\n",
    "\n",
    "def get_row_nz(csr_mat, col_ind):\n",
    "    \"\"\"faster than csr_mat.get_row for some reason\"\"\"\n",
    "    start_idx = csr_mat.indptr[col_ind]\n",
    "    stop_idx = csr_mat.indptr[col_ind+1]\n",
    "    return csr_mat.indices[start_idx:stop_idx]\n",
    "    \n",
    "\n",
    "# Negative sample generator\n",
    "\n",
    "def sample_neg(user_ind, interactions,\n",
    "               max_samples=100,\n",
    "               violating_cond=lambda neg_item_ind:True):\n",
    "    # Given a user index, sample a negative item\n",
    "#     user_pos_item_inds = interactions.getrow(user_ind).nonzero()[1]  # much too slow\n",
    "    user_pos_item_inds = get_row_nz(interactions, user_ind)\n",
    "    \n",
    "    n_sampled = 0\n",
    "    while n_sampled < max_samples:\n",
    "        neg_item_ind = np.random.randint(0, n_items)\n",
    "        n_sampled += 1\n",
    "        if neg_item_ind not in user_pos_item_inds:\n",
    "            if violating_cond(neg_item_ind):\n",
    "                break  # will go and use this sample\n",
    "    return neg_item_ind, n_sampled\n",
    "\n",
    "\n",
    "def violation_warp(neg_item_ind, user_tensor, pos_score, net):\n",
    "    items_input = Variable(torch.LongTensor([neg_item_ind]))\n",
    "    neg_score = net.predict_score(user_tensor, items_input)\n",
    "    condition_var = neg_score > pos_score - 1.\n",
    "    # Need to extract the data from the Var for logical bool\n",
    "    return torch.max(condition_var.data)\n",
    "\n",
    "\n",
    "def sample_warp(interactions, net):\n",
    "    nnz_users, nnz_items = map(np.int64, interactions.nonzero())\n",
    "    user_input = Variable(torch.LongTensor(nnz_users))\n",
    "    pos_item_input = Variable(torch.LongTensor(nnz_items))\n",
    "    pos_scores = net.predict_score(user_input, pos_item_input)\n",
    "    \n",
    "    nid_preload = []\n",
    "    n_sampled_preload = []\n",
    "    for uid, user_tensor, pos_score in zip(nnz_users, user_input, pos_scores):\n",
    "        nid, nsamp = sample_neg(\n",
    "            uid, interactions, \n",
    "            violating_cond=partial(violation_warp, \n",
    "                                   user_tensor=user_tensor, \n",
    "                                   pos_score=pos_score, \n",
    "                                   net=net))\n",
    "        nid_preload.append(nid)\n",
    "        n_sampled_preload.append(nsamp)\n",
    "        \n",
    "    return nid_preload, n_sampled_preload"
   ]
  },
  {
   "cell_type": "code",
   "execution_count": 6,
   "metadata": {
    "collapsed": false
   },
   "outputs": [
    {
     "name": "stdout",
     "output_type": "stream",
     "text": [
      "CPU times: user 7.13 s, sys: 84 ms, total: 7.22 s\n",
      "Wall time: 4.52 s\n"
     ]
    }
   ],
   "source": [
    "%%time\n",
    "# Sample from training interactions\n",
    "nnz_users, nnz_items = map(np.int64, train.nonzero())\n",
    "\n",
    "shuffle_ind = np.arange(len(nnz_users))\n",
    "\n",
    "# preload at the start of every epoch\n",
    "# (next epoch can be preloaded using cpu while gpu trains if the net is shared)\n",
    "nid_preload, n_sampled_preload = sample_warp(train, net)"
   ]
  },
  {
   "cell_type": "code",
   "execution_count": 7,
   "metadata": {
    "collapsed": false
   },
   "outputs": [
    {
     "name": "stdout",
     "output_type": "stream",
     "text": [
      "Epoch 0\t\tAUC: train:0.804675422952\t test:0.698668994468\n",
      "avg nsamp:1.10856410051 \t time:5.12060308456\n",
      "Epoch 1\t\tAUC: train:0.908110871777\t test:0.828589238891\n",
      "avg nsamp:7.65719552759 \t time:24.3163590431\n",
      "Epoch 2\t\tAUC: train:0.933084519728\t test:0.85752300792\n",
      "avg nsamp:21.0292149241 \t time:64.241286993\n",
      "Epoch 3\t\tAUC: train:0.945215041587\t test:0.869739011746\n",
      "avg nsamp:25.2253837214 \t time:76.6893680096\n",
      "Epoch 4\t\tAUC: train:0.953289733134\t test:0.879337713435\n",
      "avg nsamp:27.0332024206 \t time:81.804019928\n",
      "Epoch 5\t\tAUC: train:0.958571955284\t test:0.885195985652\n",
      "avg nsamp:31.1956077426 \t time:94.1827380657\n",
      "Epoch 6\t\tAUC: train:0.961578843569\t test:0.887316457402\n",
      "avg nsamp:34.4481825833 \t time:103.758337021\n",
      "Epoch 7\t\tAUC: train:0.963488563086\t test:0.887488449733\n",
      "avg nsamp:36.0002805274 \t time:108.203058004\n",
      "Epoch 8\t\tAUC: train:0.964939686769\t test:0.887765256806\n",
      "avg nsamp:36.9745120827 \t time:111.449014902\n",
      "Epoch 9\t\tAUC: train:0.966455853553\t test:0.888851915736\n",
      "avg nsamp:37.5568468721 \t time:112.421780109\n",
      "Epoch 10\t\tAUC: train:0.967944402834\t test:0.890362541264\n",
      "avg nsamp:38.4306496213 \t time:116.653550863\n",
      "Epoch 11\t\tAUC: train:0.968946780845\t test:0.891403077822\n",
      "avg nsamp:39.3579128762 \t time:118.494557858\n",
      "Epoch 12\t\tAUC: train:0.969556810722\t test:0.891848578544\n",
      "avg nsamp:40.1447922094 \t time:120.793145895\n",
      "Epoch 13\t\tAUC: train:0.96994517488\t test:0.892080545459\n",
      "avg nsamp:41.0301767323 \t time:123.162359953\n",
      "Epoch 14\t\tAUC: train:0.970501547087\t test:0.892816023373\n",
      "avg nsamp:41.284635114 \t time:124.558209181\n",
      "Epoch 15\t\tAUC: train:0.971118262997\t test:0.89341801622\n",
      "avg nsamp:41.5250070132 \t time:125.504401922\n",
      "Epoch 16\t\tAUC: train:0.971521292954\t test:0.893730041255\n",
      "avg nsamp:41.7427964573 \t time:125.962660074\n",
      "Epoch 17\t\tAUC: train:0.971888639416\t test:0.893763893325\n",
      "avg nsamp:41.7370456458 \t time:125.171706915\n",
      "Epoch 18\t\tAUC: train:0.972266572454\t test:0.893594777776\n",
      "avg nsamp:42.2136416463 \t time:126.17987895\n",
      "Epoch 19\t\tAUC: train:0.972759716207\t test:0.893595074956\n",
      "avg nsamp:42.3992706288 \t time:128.103173971\n",
      "CPU times: user 33min 59s, sys: 2.08 s, total: 34min 1s\n",
      "Wall time: 34min 2s\n"
     ]
    }
   ],
   "source": [
    "%%time\n",
    "num_epochs = 20\n",
    "avg_nsamps = []\n",
    "tocs = []\n",
    "for epoch in range(num_epochs):\n",
    "    print('Epoch %d' % epoch, end='\\t')\n",
    "    tic = time()\n",
    "    \n",
    "    # Resample negs per pos interaction\n",
    "    nid_preload, n_sampled_preload = map(np.array, sample_warp(train, net))\n",
    "\n",
    "    np.random.shuffle(shuffle_ind)\n",
    "\n",
    "    uid_gen = batcher(nnz_users[shuffle_ind], batch_size)\n",
    "    pid_gen = batcher(nnz_items[shuffle_ind], batch_size)\n",
    "    nid_gen = batcher(nid_preload[shuffle_ind], batch_size)\n",
    "    n_samp_gen = batcher(n_sampled_preload[shuffle_ind], batch_size)\n",
    "    avg_nsamps_b = []\n",
    "    for uid_batch, pid_batch, nid_batch, nsamp_batch in zip(uid_gen, pid_gen, nid_gen, n_samp_gen):\n",
    "        user_input = Variable(torch.LongTensor(uid_batch))\n",
    "        p_item_input = Variable(torch.LongTensor(pid_batch))\n",
    "        n_item_input = Variable(torch.LongTensor(nid_batch))\n",
    "        nsamp_input = Variable(torch.FloatTensor(nsamp_batch))\n",
    "        pos_pred, neg_pred = net(user_input, p_item_input, n_item_input)\n",
    "        loss = criterion(pos_pred, neg_pred, nsamp_input)\n",
    "        loss.backward()\n",
    "        optimizer.step()\n",
    "        avg_nsamps_b.append(nsamp_batch)\n",
    "        \n",
    "    toc = time() - tic\n",
    "    avg_nsamps.append(np.mean(list(chain(*avg_nsamps_b))))\n",
    "    tocs.append(toc)\n",
    "    \n",
    "    print('AUC: train:{}\\t test:{}'\\\n",
    "          .format(metrics.full_auc_pytorch(net, train),\n",
    "                  metrics.full_auc_pytorch(net, test),\n",
    "                 ))\n",
    "    \n",
    "    print('avg nsamp:{} \\t time:{}'.format(avg_nsamps[-1], tocs[-1]))"
   ]
  },
  {
   "cell_type": "markdown",
   "metadata": {},
   "source": [
    "# Plots"
   ]
  },
  {
   "cell_type": "code",
   "execution_count": 8,
   "metadata": {
    "collapsed": false
   },
   "outputs": [],
   "source": [
    "import matplotlib.pyplot as plt\n",
    "import seaborn as sns\n",
    "%matplotlib inline"
   ]
  },
  {
   "cell_type": "code",
   "execution_count": 10,
   "metadata": {
    "collapsed": false
   },
   "outputs": [
    {
     "data": {
      "text/plain": [
       "[<matplotlib.lines.Line2D at 0x7f0d83fe7c90>]"
      ]
     },
     "execution_count": 10,
     "metadata": {},
     "output_type": "execute_result"
    },
    {
     "data": {
      "image/png": "[encoded data removed]",
      "text/plain": [
       "<matplotlib.figure.Figure at 0x7f0d83fe7210>"
      ]
     },
     "metadata": {},
     "output_type": "display_data"
    }
   ],
   "source": [
    "plt.plot(range(num_epochs), tocs)\n",
    "plt.plot(range(num_epochs), avg_nsamps)"
   ]
  }
 ],
 "metadata": {
  "kernelspec": {
   "display_name": "Python 2",
   "language": "python",
   "name": "python2"
  },
  "language_info": {
   "codemirror_mode": {
    "name": "ipython",
    "version": 2
   },
   "file_extension": ".py",
   "mimetype": "text/x-python",
   "name": "python",
   "nbconvert_exporter": "python",
   "pygments_lexer": "ipython2",
   "version": "2.7.12"
  }
 },
 "nbformat": 4,
 "nbformat_minor": 0
}
