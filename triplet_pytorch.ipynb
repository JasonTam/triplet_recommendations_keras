{
 "cells": [
  {
   "cell_type": "markdown",
   "metadata": {},
   "source": [
    "# Recommendations in pytorch using triplet loss\n",
    "Along the lines of BPR [1]. \n",
    "\n",
    "[1] Rendle, Steffen, et al. \"BPR: Bayesian personalized ranking from implicit feedback.\" Proceedings of the Twenty-Fifth Conference on Uncertainty in Artificial Intelligence. AUAI Press, 2009.\n",
    "\n",
    "This is implemented (more efficiently) in LightFM (https://github.com/lyst/lightfm). See the MovieLens example (https://github.com/lyst/lightfm/blob/master/examples/movielens/example.ipynb) for results comparable to this notebook.\n",
    "\n",
    "## Set up the architecture\n",
    "A simple dense layer for both users and items: this is exactly equivalent to latent factor matrix when multiplied by binary user and item indices. There are three inputs: users, positive items, and negative items. In the triplet objective we try to make the positive item rank higher than the negative item for that user.\n",
    "\n",
    "Because we want just one single embedding for the items, we use shared weights for the positive and negative item inputs (a siamese architecture).\n",
    "\n",
    "This is all very simple but could be made arbitrarily complex, with more layers, conv layers and so on. I expect we'll be seeing a lot of papers doing just that.\n"
   ]
  },
  {
   "cell_type": "code",
   "execution_count": 1,
   "metadata": {
    "collapsed": true
   },
   "outputs": [],
   "source": [
    "from __future__ import print_function\n",
    "\n",
    "import numpy as np\n",
    "import itertools\n",
    "import data\n",
    "import metrics\n",
    "\n",
    "import torch\n",
    "import torch.nn as nn\n",
    "import torch.nn.init as init\n",
    "import torch.nn.functional as F\n",
    "import torch.optim as optim\n",
    "from torch.autograd import Variable"
   ]
  },
  {
   "cell_type": "code",
   "execution_count": 2,
   "metadata": {
    "collapsed": false
   },
   "outputs": [
    {
     "name": "stdout",
     "output_type": "stream",
     "text": [
      "944 1683\n",
      "49906 5469\n"
     ]
    }
   ],
   "source": [
    "n_latent = 100\n",
    "batch_size = 64\n",
    "\n",
    "# Read data\n",
    "train, test = data.get_movielens_data()\n",
    "n_users, n_items = train.shape\n",
    "\n",
    "uid, pid, nid = data.get_triplets(train)  # user, positive_item, negative_item\n",
    "test_uid, test_pid, test_nid = data.get_triplets(test)\n",
    "print(n_users, n_items)\n",
    "print(len(uid), len(test_uid))"
   ]
  },
  {
   "cell_type": "code",
   "execution_count": 3,
   "metadata": {
    "collapsed": false
   },
   "outputs": [],
   "source": [
    "class FactNet(nn.Module):\n",
    "    def __init__(self,\n",
    "                 n_users, n_items,\n",
    "                 n_latent,\n",
    "                ):\n",
    "        super(FactNet, self).__init__()\n",
    "        self.user_embedding_layer = nn.Embedding(n_users, n_latent)\n",
    "        self.item_embedding_layer = nn.Embedding(n_items, n_latent)  # both pos and neg items share these params\n",
    "        init.uniform(net.user_embedding_layer.weight, -0.5, 0.5)\n",
    "        init.uniform(net.item_embedding_layer.weight, -0.5, 0.5)  # default was normal\n",
    "        \n",
    "    def predict_score(self, uid, iid):\n",
    "        # TODO: check to see if this handles multiple users and multiple items correctly\n",
    "        user_embedding = self.user_embedding_layer(uid)\n",
    "        item_embedding = self.item_embedding_layer(iid)\n",
    "        score = (user_embedding * item_embedding).sum(dim=1)\n",
    "        return score\n",
    "    \n",
    "        \n",
    "    def forward(self, uid, pid, nid):\n",
    "        # lulzy forward for loss computation\n",
    "        user_embedding = self.user_embedding_layer(uid)\n",
    "        pos_item_embedding = self.item_embedding_layer(pid)\n",
    "        neg_item_embedding = self.item_embedding_layer(nid)\n",
    "        \n",
    "        # torch.dot doesnt take in axis :sadface:\n",
    "        pos_pred = (user_embedding * pos_item_embedding).sum(dim=1)\n",
    "        neg_pred = (user_embedding * neg_item_embedding).sum(dim=1)\n",
    "        return pos_pred, neg_pred\n",
    "\n",
    "    \n",
    "class TripletBPRLoss(nn.Module):\n",
    "    def __init__(self):\n",
    "        super(TripletBPRLoss, self).__init__()\n",
    "\n",
    "    def forward(self, pos_pred, neg_pred):\n",
    "        loss = 1.0 - torch.sigmoid(pos_pred - neg_pred)\n",
    "        return loss.mean()\n",
    "\n",
    "net = FactNet(n_users, n_items, n_latent)\n",
    "criterion = TripletBPRLoss()\n",
    "optimizer = optim.Adam(net.parameters())\n",
    "# optimizer = optim.Adadelta(net.parameters())\n",
    "optimizer = optim.Adagrad(net.parameters())"
   ]
  },
  {
   "cell_type": "code",
   "execution_count": 6,
   "metadata": {
    "collapsed": false
   },
   "outputs": [],
   "source": [
    "from sklearn.metrics import roc_auc_score\n",
    "def full_auc(net, ground_truth):\n",
    "    ground_truth = ground_truth.tocsr()\n",
    "\n",
    "    no_users, no_items = ground_truth.shape\n",
    "\n",
    "    pid_arr = np.arange(no_items, dtype=np.int64)\n",
    "\n",
    "    scores = []\n",
    "\n",
    "    for user_id, row in enumerate(ground_truth):\n",
    "        user_arr = np.array([user_id]*len(pid_arr), dtype=np.int64)\n",
    "        user_input = Variable(torch.LongTensor(user_arr))\n",
    "        items_input = Variable(torch.LongTensor(pid_arr))\n",
    "        \n",
    "        predictions = net.predict_score(user_input, items_input)\n",
    "        preds_arr = np.squeeze(predictions.data.numpy())\n",
    "\n",
    "        true_pids = row.indices[row.data == 1]\n",
    "        if len(true_pids):\n",
    "            scores.append(roc_auc_score(row.toarray()[0].astype(bool),\n",
    "                                        preds_arr))\n",
    "\n",
    "    return np.mean(scores)"
   ]
  },
  {
   "cell_type": "code",
   "execution_count": 7,
   "metadata": {
    "collapsed": true
   },
   "outputs": [],
   "source": [
    "def batcher(iterable, batch_size):\n",
    "    it = iter(iterable)\n",
    "    while True:\n",
    "        chunk = tuple(itertools.islice(it, batch_size))\n",
    "        if not chunk:\n",
    "            return\n",
    "        yield np.array(chunk, dtype=np.int64)"
   ]
  },
  {
   "cell_type": "code",
   "execution_count": 8,
   "metadata": {
    "collapsed": false
   },
   "outputs": [
    {
     "name": "stdout",
     "output_type": "stream",
     "text": [
      "Epoch 0\tAUC: train:0.851437926336\t test:0.708176292295\n",
      "Epoch 1\tAUC: train:0.905246953711\t test:0.786664742913\n",
      "Epoch 2\tAUC: train:0.917485025308\t test:0.813266294433\n",
      "Epoch 3\tAUC: train:0.921757169089\t test:0.824214443\n",
      "Epoch 4\tAUC: train:0.924242200149\t test:0.830692094282\n",
      "Epoch 5\tAUC: train:0.925970550503\t test:0.834588743087\n",
      "Epoch 6\tAUC: train:0.92756677899\t test:0.837254668446\n",
      "Epoch 7\tAUC: train:0.929186087453\t test:0.839445715136\n",
      "Epoch 8\tAUC: train:0.930479078246\t test:0.841002026467\n",
      "Epoch 9\tAUC: train:0.931517076017\t test:0.842274550028\n",
      "CPU times: user 51.9 s, sys: 6.24 s, total: 58.1 s\n",
      "Wall time: 41.7 s\n"
     ]
    }
   ],
   "source": [
    "%%time\n",
    "num_epochs = 10\n",
    "\n",
    "for epoch in range(num_epochs):\n",
    "\n",
    "    print('Epoch %s' % epoch, end='\\t')\n",
    "\n",
    "    # Sample triplets from the training data\n",
    "    uid, pid, nid = data.get_triplets(train)\n",
    "    shuffle_ind = np.arange(len(uid))\n",
    "#     np.random.shuffle(shuffle_ind)\n",
    "    uid_gen = batcher(uid[shuffle_ind], batch_size)\n",
    "    pid_gen = batcher(pid[shuffle_ind], batch_size)\n",
    "    nid_gen = batcher(nid[shuffle_ind], batch_size)\n",
    "    for uid_batch, pid_batch, nid_batch in zip(uid_gen, pid_gen, nid_gen):\n",
    "    \n",
    "        user_input = Variable(torch.LongTensor(uid_batch))\n",
    "        p_item_input = Variable(torch.LongTensor(pid_batch))\n",
    "        n_item_input = Variable(torch.LongTensor(nid_batch))\n",
    "\n",
    "        out = net(user_input, p_item_input, n_item_input)\n",
    "        loss = criterion(*out)\n",
    "        loss.backward()\n",
    "        optimizer.step()\n",
    "\n",
    "    print('AUC: train:{}\\t test:{}'.format(full_auc(net, train), full_auc(net, test)))"
   ]
  }
 ],
 "metadata": {
  "kernelspec": {
   "display_name": "Python 2",
   "language": "python",
   "name": "python2"
  },
  "language_info": {
   "codemirror_mode": {
    "name": "ipython",
    "version": 2
   },
   "file_extension": ".py",
   "mimetype": "text/x-python",
   "name": "python",
   "nbconvert_exporter": "python",
   "pygments_lexer": "ipython2",
   "version": "2.7.12"
  }
 },
 "nbformat": 4,
 "nbformat_minor": 0
}
